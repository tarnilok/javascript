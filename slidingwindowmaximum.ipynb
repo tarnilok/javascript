{
 "cells": [
  {
   "cell_type": "code",
   "execution_count": 9,
   "source": [
    "array = [1,3,-1,-3,5,3,6,7]\r\n",
    "k = 3\r\n",
    "newarray = []\r\n",
    "def func() :\r\n",
    "    if len(array) < k : return\r\n",
    "    newarray.append(max(array[slice(3)]))\r\n",
    "    # array.pop(0)\r\n",
    "    del array[0]\r\n",
    "    func()\r\n",
    "\r\n",
    "func()\r\n",
    "print(newarray)   \r\n"
   ],
   "outputs": [
    {
     "output_type": "stream",
     "name": "stdout",
     "text": [
      "[3, 3, 5, 5, 6, 7]\n"
     ]
    }
   ],
   "metadata": {}
  }
 ],
 "metadata": {
  "orig_nbformat": 4,
  "language_info": {
   "name": "python",
   "version": "3.9.6",
   "mimetype": "text/x-python",
   "codemirror_mode": {
    "name": "ipython",
    "version": 3
   },
   "pygments_lexer": "ipython3",
   "nbconvert_exporter": "python",
   "file_extension": ".py"
  },
  "kernelspec": {
   "name": "python3",
   "display_name": "Python 3.9.6 64-bit"
  },
  "interpreter": {
   "hash": "e965bf5714937749202af5ef1e0109fd9e0d77d7ccde2d0fac82e52b9723022b"
  }
 },
 "nbformat": 4,
 "nbformat_minor": 2
}