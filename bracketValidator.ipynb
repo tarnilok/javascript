{
 "cells": [
  {
   "cell_type": "code",
   "execution_count": null,
   "source": [
    "def isVallid(br) :\r\n",
    "    brackets = {\"(\" : \")\", \"[\" : \"]\", \"{\" : \"}\"}\r\n",
    "    openersBrackets = set(\"(\", \"[\", \"{\")\r\n",
    "    arr = []\r\n",
    "\r\n",
    "    for i in br :\r\n",
    "        if (e in openersBrackets) :\r\n",
    "            arr.append(e)\r\n",
    "        elif (arr and e ==)"
   ],
   "outputs": [],
   "metadata": {}
  }
 ],
 "metadata": {
  "orig_nbformat": 4,
  "language_info": {
   "name": "python"
  }
 },
 "nbformat": 4,
 "nbformat_minor": 2
}