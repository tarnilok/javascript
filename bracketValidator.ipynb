{
 "cells": [
  {
   "cell_type": "code",
   "execution_count": 7,
   "source": [
    "def isVallid(br) :\r\n",
    "    brackets = {\"(\" : \")\", \"[\" : \"]\", \"{\" : \"}\"}\r\n",
    "    openersBrackets = set([\"(\", \"[\", \"{\"])\r\n",
    "    arr = []\r\n",
    "\r\n",
    "    for i in br :\r\n",
    "        if (i in openersBrackets) :\r\n",
    "            arr.append(i)\r\n",
    "        elif (arr and i == brackets[arr[-1]]) :\r\n",
    "            arr.pop()\r\n",
    "        else :\r\n",
    "            return False\r\n",
    "    return arr == []\r\n",
    "\r\n",
    "# print(isVallid(\"()\"))\r\n",
    "# print(isVallid(\"([]{[]})[]{{}()}\"))\r\n",
    "# print(isVallid(\"([][]}\"))\r\n",
    "# print(isVallid(\"[[]()\"))\r\n",
    "# print(isVallid(\"[[]]())\"))\r\n",
    "# print(isVallid(\" \"))\r\n",
    "# print(isVallid(\"...\"))\r\n",
    "# print(isVallid(\"()[.{}]\"))\r\n",
    "# print(isVallid(\"hello\"))\r\n",
    "\r\n",
    "# check = input('Write a string that contains only `(`, `)`, `{`, `}`, `[` and `]`: ')\r\n",
    "# print(isVallid(check))"
   ],
   "outputs": [
    {
     "output_type": "stream",
     "name": "stdout",
     "text": [
      "False\n"
     ]
    }
   ],
   "metadata": {}
  }
 ],
 "metadata": {
  "orig_nbformat": 4,
  "language_info": {
   "name": "python",
   "version": "3.9.6",
   "mimetype": "text/x-python",
   "codemirror_mode": {
    "name": "ipython",
    "version": 3
   },
   "pygments_lexer": "ipython3",
   "nbconvert_exporter": "python",
   "file_extension": ".py"
  },
  "kernelspec": {
   "name": "python3",
   "display_name": "Python 3.9.6 64-bit"
  },
  "interpreter": {
   "hash": "e965bf5714937749202af5ef1e0109fd9e0d77d7ccde2d0fac82e52b9723022b"
  }
 },
 "nbformat": 4,
 "nbformat_minor": 2
}