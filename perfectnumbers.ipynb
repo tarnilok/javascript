{
 "cells": [
  {
   "cell_type": "code",
   "execution_count": 19,
   "source": [
    "import math\r\n",
    "isPerfect = int(input(\"enter a positive number to check whether it is a perfect number\"))\r\n",
    "\r\n",
    "sum = 0\r\n",
    "for i in range(1, math.floor(isPerfect/2)+1) :\r\n",
    "    if not (isPerfect % i) :\r\n",
    "        sum += i\r\n",
    "\r\n",
    "print(f\"number => {isPerfect}, sum of its divisors => {sum} ==> PERFECT NUMBER\") if sum == isPerfect and isPerfect != 0  else print(f\"number => {isPerfect}, sum of its divisors => {sum} ==> NOT PERFECT NUMBER\")\r\n"
   ],
   "outputs": [
    {
     "output_type": "stream",
     "name": "stdout",
     "text": [
      "number => 0, sum of its divisors => 0 ==> NOT PERFECT NUMBER\n"
     ]
    }
   ],
   "metadata": {}
  },
  {
   "cell_type": "code",
   "execution_count": 20,
   "source": [
    "import math\r\n",
    "inp_numb = int(input(\"enter a positive number to check whether it is a perfect number\"))\r\n",
    "\r\n",
    "def isPerfect (numb) :\r\n",
    "    sum = 0\r\n",
    "    for i in range(1, math.floor(numb/2)+1) :\r\n",
    "        if not (numb % i) :\r\n",
    "            sum += i \r\n",
    "    print(f\"number => {numb}, sum of its divisors => {sum} ==> PERFECT NUMBER\") if sum == numb and numb != 0 else print(f\"number => {numb}, sum of its divisors => {sum} ==> NOT PERFECT NUMBER\")\r\n",
    "isPerfect(inp_numb)"
   ],
   "outputs": [
    {
     "output_type": "error",
     "ename": "TypeError",
     "evalue": "'float' object cannot be interpreted as an integer",
     "traceback": [
      "\u001b[1;31m---------------------------------------------------------------------------\u001b[0m",
      "\u001b[1;31mTypeError\u001b[0m                                 Traceback (most recent call last)",
      "\u001b[1;32m~\\AppData\\Local\\Temp/ipykernel_4076/3886113494.py\u001b[0m in \u001b[0;36m<module>\u001b[1;34m\u001b[0m\n\u001b[0;32m      7\u001b[0m             \u001b[0msum\u001b[0m \u001b[1;33m+=\u001b[0m \u001b[0mi\u001b[0m\u001b[1;33m\u001b[0m\u001b[1;33m\u001b[0m\u001b[0m\n\u001b[0;32m      8\u001b[0m     \u001b[0mprint\u001b[0m\u001b[1;33m(\u001b[0m\u001b[1;34mf\"number => {numb}, sum of its divisors => {sum} ==> PERFECT NUMBER\"\u001b[0m\u001b[1;33m)\u001b[0m \u001b[1;32mif\u001b[0m \u001b[0msum\u001b[0m \u001b[1;33m==\u001b[0m \u001b[0mnumb\u001b[0m \u001b[1;32mand\u001b[0m \u001b[0mnumb\u001b[0m \u001b[1;33m!=\u001b[0m \u001b[1;36m0\u001b[0m \u001b[1;32melse\u001b[0m \u001b[0mprint\u001b[0m\u001b[1;33m(\u001b[0m\u001b[1;34mf\"number => {numb}, sum of its divisors => {sum} ==> NOT PERFECT NUMBER\"\u001b[0m\u001b[1;33m)\u001b[0m\u001b[1;33m\u001b[0m\u001b[1;33m\u001b[0m\u001b[0m\n\u001b[1;32m----> 9\u001b[1;33m \u001b[0misPerfect\u001b[0m\u001b[1;33m(\u001b[0m\u001b[0minp_numb\u001b[0m\u001b[1;33m)\u001b[0m\u001b[1;33m\u001b[0m\u001b[1;33m\u001b[0m\u001b[0m\n\u001b[0m",
      "\u001b[1;32m~\\AppData\\Local\\Temp/ipykernel_4076/3886113494.py\u001b[0m in \u001b[0;36misPerfect\u001b[1;34m(numb)\u001b[0m\n\u001b[0;32m      3\u001b[0m \u001b[1;32mdef\u001b[0m \u001b[0misPerfect\u001b[0m \u001b[1;33m(\u001b[0m\u001b[0mnumb\u001b[0m\u001b[1;33m)\u001b[0m \u001b[1;33m:\u001b[0m\u001b[1;33m\u001b[0m\u001b[1;33m\u001b[0m\u001b[0m\n\u001b[0;32m      4\u001b[0m     \u001b[0msum\u001b[0m \u001b[1;33m=\u001b[0m \u001b[1;36m0\u001b[0m\u001b[1;33m\u001b[0m\u001b[1;33m\u001b[0m\u001b[0m\n\u001b[1;32m----> 5\u001b[1;33m     \u001b[1;32mfor\u001b[0m \u001b[0mi\u001b[0m \u001b[1;32min\u001b[0m \u001b[0mrange\u001b[0m\u001b[1;33m(\u001b[0m\u001b[1;36m1\u001b[0m\u001b[1;33m,\u001b[0m \u001b[0mnumb\u001b[0m\u001b[1;33m/\u001b[0m\u001b[1;36m2\u001b[0m\u001b[1;33m)\u001b[0m \u001b[1;33m:\u001b[0m\u001b[1;33m\u001b[0m\u001b[1;33m\u001b[0m\u001b[0m\n\u001b[0m\u001b[0;32m      6\u001b[0m         \u001b[1;32mif\u001b[0m \u001b[1;32mnot\u001b[0m \u001b[1;33m(\u001b[0m\u001b[0mnumb\u001b[0m \u001b[1;33m%\u001b[0m \u001b[0mi\u001b[0m\u001b[1;33m)\u001b[0m \u001b[1;33m:\u001b[0m\u001b[1;33m\u001b[0m\u001b[1;33m\u001b[0m\u001b[0m\n\u001b[0;32m      7\u001b[0m             \u001b[0msum\u001b[0m \u001b[1;33m+=\u001b[0m \u001b[0mi\u001b[0m\u001b[1;33m\u001b[0m\u001b[1;33m\u001b[0m\u001b[0m\n",
      "\u001b[1;31mTypeError\u001b[0m: 'float' object cannot be interpreted as an integer"
     ]
    }
   ],
   "metadata": {}
  }
 ],
 "metadata": {
  "orig_nbformat": 4,
  "language_info": {
   "name": "python",
   "version": "3.9.6",
   "mimetype": "text/x-python",
   "codemirror_mode": {
    "name": "ipython",
    "version": 3
   },
   "pygments_lexer": "ipython3",
   "nbconvert_exporter": "python",
   "file_extension": ".py"
  },
  "kernelspec": {
   "name": "python3",
   "display_name": "Python 3.9.6 64-bit"
  },
  "interpreter": {
   "hash": "e965bf5714937749202af5ef1e0109fd9e0d77d7ccde2d0fac82e52b9723022b"
  }
 },
 "nbformat": 4,
 "nbformat_minor": 2
}